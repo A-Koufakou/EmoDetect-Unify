{
  "cells": [
    {
      "cell_type": "markdown",
      "metadata": {
        "id": "nIoTP9mUeXry"
      },
      "source": [
        "#Imports"
      ]
    },
    {
      "cell_type": "code",
      "source": [
        "!pip install transformers==4.30.2\n",
        "!pip install simpletransformers"
      ],
      "metadata": {
        "id": "uWe9Mywthslh"
      },
      "execution_count": null,
      "outputs": []
    },
    {
      "cell_type": "code",
      "source": [
        "import pandas as pd\n",
        "import numpy as np\n",
        "import logging\n",
        "import torch\n",
        "import sklearn\n",
        "from torch import cuda\n",
        "import gc\n",
        "from sklearn.utils import shuffle\n",
        "from sklearn.preprocessing import LabelEncoder\n",
        "from sklearn.metrics import f1_score, accuracy_score, precision_score, recall_score, confusion_matrix, classification_report\n",
        "from simpletransformers.classification import ClassificationModel, ClassificationArgs\n",
        "from sklearn.model_selection import train_test_split\n",
        "from google.colab import drive"
      ],
      "metadata": {
        "id": "qNqShOV_hvrq"
      },
      "execution_count": null,
      "outputs": []
    },
    {
      "cell_type": "markdown",
      "source": [
        "#Functions"
      ],
      "metadata": {
        "id": "vmgEELfph3mK"
      }
    },
    {
      "cell_type": "code",
      "execution_count": null,
      "metadata": {
        "id": "toZIGo0dd5JW",
        "colab": {
          "base_uri": "https://localhost:8080/"
        },
        "outputId": "3708c77b-f221-4b60-c8e6-669294c78a62"
      },
      "outputs": [
        {
          "output_type": "stream",
          "name": "stdout",
          "text": [
            "Mounted at /content/drive\n"
          ]
        }
      ],
      "source": [
        "drive.mount('/content/drive')"
      ]
    },
    {
      "cell_type": "code",
      "source": [
        "def empty_cache(model, optimizer):\n",
        "  device = 'cuda' if cuda.is_available() else 'cpu'\n",
        "  with torch.no_grad():\n",
        "      torch.cuda.empty_cache()\n",
        "  gc.collect()"
      ],
      "metadata": {
        "id": "Boa7rSfeiOOS"
      },
      "execution_count": null,
      "outputs": []
    },
    {
      "cell_type": "code",
      "execution_count": null,
      "metadata": {
        "id": "HAO_O9TxfgjV"
      },
      "outputs": [],
      "source": [
        "def f1_multiclass(labels, preds):\n",
        "  return f1_score(labels, preds, average='macro')\n",
        "\n",
        "def precision_multiclass(labels,preds):\n",
        "  return precision_score(labels, preds, average='macro')\n",
        "\n",
        "def recall_multiclass(labels,preds):\n",
        "  return recall_score(labels, preds, average='macro')"
      ]
    },
    {
      "cell_type": "code",
      "execution_count": null,
      "metadata": {
        "id": "ZHugZRCrb3UO"
      },
      "outputs": [],
      "source": [
        "label_list = ['anger',\n",
        "              'anticipation',\n",
        "              'disgust',\n",
        "              'fear',\n",
        "              'joy',\n",
        "              'love',\n",
        "              'neutral',\n",
        "              'sadness',\n",
        "              'surprise',\n",
        "              'trust']"
      ]
    },
    {
      "cell_type": "code",
      "source": [
        "def split_df(df):\n",
        "  X_train, X_test, y_train, y_test = train_test_split(df['text'], df['labels'],\n",
        "                                                    stratify = df['labels'],\n",
        "                                                    test_size = 0.20,\n",
        "                                                    random_state = 42)\n",
        "\n",
        "  train_df = pd.DataFrame({'labels': y_train, 'text': X_train})\n",
        "  test_df = pd.DataFrame({'labels': y_test, 'text': X_test})\n",
        "\n",
        "  return train_df, test_df"
      ],
      "metadata": {
        "id": "oDWBPW5Z-zq0"
      },
      "execution_count": null,
      "outputs": []
    },
    {
      "cell_type": "code",
      "execution_count": null,
      "metadata": {
        "id": "vzc48RIFfJmt"
      },
      "outputs": [],
      "source": [
        "def run_transformers(train_df, eval_df, label_encoder, reps=1):\n",
        "    all_preds = []\n",
        "    for i in range(reps):\n",
        "        model = ClassificationModel(\n",
        "            \"roberta\",\n",
        "            \"distilroberta-base\",\n",
        "            num_labels=len(label_encoder.classes_),\n",
        "            args={\n",
        "                'num_train_epochs': 2,\n",
        "                'max_seq_length': 256,\n",
        "                'learning_rate': 1e-5,\n",
        "                'overwrite_output_dir': True,\n",
        "                'use_cuda': cuda.is_available(),\n",
        "                'custom_callback': empty_cache\n",
        "            }\n",
        "        )\n",
        "        model.train_model(train_df)\n",
        "        predictions, _ = model.predict(eval_df['text'].tolist())\n",
        "        decoded_predictions = label_encoder.inverse_transform(predictions)\n",
        "        all_preds.append(decoded_predictions)\n",
        "\n",
        "        # Print confusion matrix and classification report\n",
        "        #print(f\"Run {i+1}:\")\n",
        "        #print(classification_report(eval_df['labels'], predictions, labels=train_df['labels'].unique()))\n",
        "        #print(confusion_matrix(eval_df['labels'], predictions))\n",
        "\n",
        "    return all_preds"
      ]
    },
    {
      "cell_type": "code",
      "source": [
        "def build_model(train_df):\n",
        "  model = ClassificationModel(\n",
        "      \"roberta\",\n",
        "      \"distilroberta-base\",\n",
        "      num_labels= len(label_list),\n",
        "      #use_cuda = False,\n",
        "      args={'num_train_epochs':2,\n",
        "            'labels_list': label_list,\n",
        "            'max_seq_length':256,\n",
        "            'learning_rate':1e-5,\n",
        "            'overwrite_output_dir': True,\n",
        "            'custom_callback': empty_cache,\n",
        "            }\n",
        "    )\n",
        "  #model_args.labels_list = [\"true\", \"false\"]\n",
        "\n",
        "  # train the model\n",
        "  model.train_model(train_df)\n",
        "\n",
        "  return model"
      ],
      "metadata": {
        "id": "WYxR5j65WcDS"
      },
      "execution_count": null,
      "outputs": []
    },
    {
      "cell_type": "code",
      "source": [
        "def predict_labels(model, test_df):\n",
        "  # test the model with testing dataframe\n",
        "  predictions, _ = model.predict(test_df['text'].tolist())\n",
        "\n",
        "  # print confusion matrix\n",
        "  display(confusion_matrix(test_df['labels'], predictions))\n",
        "\n",
        "  # print detailed classification report\n",
        "  print(classification_report(test_df['labels'], predictions, labels=label_list))\n",
        "\n",
        "  return predictions"
      ],
      "metadata": {
        "id": "Yf_I_avzWvGa"
      },
      "execution_count": null,
      "outputs": []
    },
    {
      "cell_type": "markdown",
      "metadata": {
        "id": "5-Bq5zWDeb2E"
      },
      "source": [
        "# Load Datasets"
      ]
    },
    {
      "cell_type": "code",
      "source": [
        "carer_path = '/content/drive/My Drive/Emotion Data Analysis Project/data/unified formatted data/CARER_unified_sample.csv'\n",
        "covid_worry_path = '/content/drive/My Drive/Emotion Data Analysis Project/data/unified formatted data/covid_worry_unified.csv'\n",
        "emo_event_path = '/content/drive/My Drive/Emotion Data Analysis Project/data/unified formatted data/emoevent_unified.csv'\n",
        "isear_path = '/content/drive/My Drive/Emotion Data Analysis Project/data/unified formatted data/enISEAR_unified.csv'\n",
        "git_tr_path = '/content/drive/My Drive/Emotion Data Analysis Project/data/unified formatted data/github_love_train_unified.csv'\n",
        "git_tst_path = '/content/drive/My Drive/Emotion Data Analysis Project/data/unified formatted data/github_love_test_unified.csv'\n",
        "go_emo_tr_path = '/content/drive/My Drive/Emotion Data Analysis Project/data/unified formatted data/go_emotions_train_unified.csv'\n",
        "go_emo_tst_path = '/content/drive/My Drive/Emotion Data Analysis Project/data/unified formatted data/go_emotions_test_unified.csv'\n",
        "good_news_path = '/content/drive/My Drive/Emotion Data Analysis Project/John/john ufd/goodnewseveryone_ufd_single.csv'\n",
        "stackOV_path = '/content/drive/My Drive/Emotion Data Analysis Project/data/unified formatted data/stackOV_GoldLabels_unified.csv'\n",
        "tweeteval_tr_path = '/content/drive/My Drive/Emotion Data Analysis Project/data/unified formatted data/tweeteval_train_unified.csv'\n",
        "tweeteval_tst_path = '/content/drive/My Drive/Emotion Data Analysis Project/data/unified formatted data/tweeteval_test_unified.csv'\n",
        "uni_joy_path = '/content/drive/My Drive/Emotion Data Analysis Project/John/john ufd/universal_joy_sample_ufd_single.csv'\n",
        "wassa_tr_path = '/content/drive/My Drive/Emotion Data Analysis Project/data/unified formatted data/wassa_train_unified.csv'\n",
        "wassa_tst_path = '/content/drive/My Drive/Emotion Data Analysis Project/data/unified formatted data/wassa_test_unified.csv'"
      ],
      "metadata": {
        "id": "Bt3ffY_vjNQs"
      },
      "execution_count": null,
      "outputs": []
    },
    {
      "cell_type": "code",
      "source": [
        "carer = pd.read_csv(carer_path)\n",
        "carer_tr, carer_tst = split_df(carer)"
      ],
      "metadata": {
        "id": "XfBCUgNBj9mh"
      },
      "execution_count": null,
      "outputs": []
    },
    {
      "cell_type": "code",
      "source": [
        "covid_worry = pd.read_csv(covid_worry_path)\n",
        "covid_tr , covid_tst = split_df(covid_worry)"
      ],
      "metadata": {
        "id": "3wYgs6cEkIjw"
      },
      "execution_count": null,
      "outputs": []
    },
    {
      "cell_type": "code",
      "source": [
        "# using our own split to improve on historical performance\n",
        "emo_event = pd.read_csv(emo_event_path)\n",
        "emoev_tr , emoev_tst = split_df(emo_event)"
      ],
      "metadata": {
        "id": "B-2KfOJokKze"
      },
      "execution_count": null,
      "outputs": []
    },
    {
      "cell_type": "code",
      "source": [
        "isear = pd.read_csv(isear_path)\n",
        "isear_tr , isear_tst = split_df(isear)"
      ],
      "metadata": {
        "id": "lwNTAqnBkQEx"
      },
      "execution_count": null,
      "outputs": []
    },
    {
      "cell_type": "code",
      "source": [
        "git_tr = pd.read_csv(git_tr_path)\n",
        "git_tst = pd.read_csv(git_tst_path)"
      ],
      "metadata": {
        "id": "Ruypgj8gkUkF"
      },
      "execution_count": null,
      "outputs": []
    },
    {
      "cell_type": "code",
      "source": [
        "go_emo_tr = pd.read_csv(go_emo_tr_path)\n",
        "go_emo_tr = go_emo_tr[[\"labels\", \"text\"]]\n",
        "go_emo_tst = pd.read_csv(go_emo_tst_path)\n",
        "go_emo_tst = go_emo_tst[[\"labels\", \"text\"]]"
      ],
      "metadata": {
        "id": "tkRcaBp2kff9"
      },
      "execution_count": null,
      "outputs": []
    },
    {
      "cell_type": "code",
      "source": [
        "good_news = pd.read_csv(good_news_path)\n",
        "gne_tr , gne_tst = split_df(good_news)"
      ],
      "metadata": {
        "id": "vuFO2tnZkjMU"
      },
      "execution_count": null,
      "outputs": []
    },
    {
      "cell_type": "code",
      "source": [
        "stackOV = pd.read_csv(stackOV_path)\n",
        "stackOV_tr , stackOV_tst = split_df(stackOV)"
      ],
      "metadata": {
        "id": "1loEySgJkt0F"
      },
      "execution_count": null,
      "outputs": []
    },
    {
      "cell_type": "code",
      "source": [
        "tweeteval_tr = pd.read_csv(tweeteval_tr_path)\n",
        "tweeteval_tst = pd.read_csv(tweeteval_tst_path)\n",
        "\n",
        "tweeteval_tr = tweeteval_tr[[\"labels\", \"text\"]]\n",
        "tweeteval_tr = tweeteval_tr.dropna()\n",
        "\n",
        "tweeteval_tst = tweeteval_tst[[\"labels\", \"text\"]]\n",
        "tweeteval_tst = tweeteval_tst.dropna()"
      ],
      "metadata": {
        "id": "JPheNXdZkyYH"
      },
      "execution_count": null,
      "outputs": []
    },
    {
      "cell_type": "code",
      "source": [
        "uni_joy = pd.read_csv(uni_joy_path)\n",
        "uni_tr, uni_tst = split_df(uni_joy)"
      ],
      "metadata": {
        "id": "8Brkvhatk35V"
      },
      "execution_count": null,
      "outputs": []
    },
    {
      "cell_type": "code",
      "source": [
        "wassa_tr = pd.read_csv(wassa_tr_path)\n",
        "wassa_tst = pd.read_csv(wassa_tst_path)"
      ],
      "metadata": {
        "id": "yoyTTXsAk7gr"
      },
      "execution_count": null,
      "outputs": []
    },
    {
      "cell_type": "markdown",
      "source": [
        "# Create Merged Master Training Set"
      ],
      "metadata": {
        "id": "BQn0Uq2UCTSx"
      }
    },
    {
      "cell_type": "code",
      "source": [
        "carer_tr['source'] = 'carer'\n",
        "covid_tr['source'] = 'covid'\n",
        "emoev_tr['source'] = 'emoevent'\n",
        "isear_tr['source'] = 'enisear'\n",
        "git_tr['source'] = 'github'\n",
        "gne_tr['source']= 'gne'\n",
        "go_emo_tr['source'] = 'goemotions'\n",
        "stackOV_tr['source'] = 'stackOV'\n",
        "tweeteval_tr['source'] = 'tweeteval'\n",
        "uni_tr['source'] = 'universal joy'\n",
        "wassa_tr['source'] = 'wassa21'"
      ],
      "metadata": {
        "id": "JgfUxVEvDqIh"
      },
      "execution_count": null,
      "outputs": []
    },
    {
      "cell_type": "code",
      "source": [
        "# List of all training datasets\n",
        "datasets = [\n",
        "    carer_tr,\n",
        "    covid_tr,\n",
        "    emoev_tr,\n",
        "    isear_tr,\n",
        "    git_tr,\n",
        "    go_emo_tr,\n",
        "    gne_tr,\n",
        "    stackOV_tr,\n",
        "    tweeteval_tr,\n",
        "    uni_tr,\n",
        "    wassa_tr\n",
        "]"
      ],
      "metadata": {
        "id": "CK1LHqm3ss9F"
      },
      "execution_count": null,
      "outputs": []
    },
    {
      "cell_type": "code",
      "source": [
        "master_train = pd.concat(datasets, ignore_index=True)"
      ],
      "metadata": {
        "id": "Y-VT5rLGsyhW"
      },
      "execution_count": null,
      "outputs": []
    },
    {
      "cell_type": "code",
      "source": [
        "master_train = shuffle(master_train, random_state=42)\n",
        "display(master_train)"
      ],
      "metadata": {
        "colab": {
          "base_uri": "https://localhost:8080/"
        },
        "id": "EA2_roKvsz8m",
        "outputId": "d048bd10-5800-4855-dbb2-97efac112f45"
      },
      "execution_count": null,
      "outputs": [
        {
          "output_type": "display_data",
          "data": {
            "text/plain": [
              "         labels                                               text  \\\n",
              "142186      joy  specifically choreographed to be appreciated b...   \n",
              "148668      joy  [PHOTO] It's [PERSON] 's first birthday. Break...   \n",
              "8839      anger  i have looked around for examples of other peo...   \n",
              "57185   neutral  HASHTAG HASHTAG HASHTAG [1] Billionaires rushe...   \n",
              "40787     anger  i had a feeling you would be really bitchy and...   \n",
              "...         ...                                                ...   \n",
              "119879  sadness  [PERSON] ... always remember your early karaok...   \n",
              "103694    anger  Pompeo: Iran is responsible for today’s tanker...   \n",
              "131932  sadness  .......No one should have to go through someth...   \n",
              "146867  sadness  [PHOTO] hack for war commander 0FRINDS guys en...   \n",
              "121958      joy      people I know. Thank You [PERSON] and TACA!!!   \n",
              "\n",
              "               source  \n",
              "142186  universal joy  \n",
              "148668  universal joy  \n",
              "8839            carer  \n",
              "57185        emoevent  \n",
              "40787           carer  \n",
              "...               ...  \n",
              "119879  universal joy  \n",
              "103694            gne  \n",
              "131932  universal joy  \n",
              "146867  universal joy  \n",
              "121958  universal joy  \n",
              "\n",
              "[180615 rows x 3 columns]"
            ],
            "text/html": [
              "\n",
              "  <div id=\"df-7a1faf5d-d9c8-4028-b4a9-706f50d8b7cd\" class=\"colab-df-container\">\n",
              "    <div>\n",
              "<style scoped>\n",
              "    .dataframe tbody tr th:only-of-type {\n",
              "        vertical-align: middle;\n",
              "    }\n",
              "\n",
              "    .dataframe tbody tr th {\n",
              "        vertical-align: top;\n",
              "    }\n",
              "\n",
              "    .dataframe thead th {\n",
              "        text-align: right;\n",
              "    }\n",
              "</style>\n",
              "<table border=\"1\" class=\"dataframe\">\n",
              "  <thead>\n",
              "    <tr style=\"text-align: right;\">\n",
              "      <th></th>\n",
              "      <th>labels</th>\n",
              "      <th>text</th>\n",
              "      <th>source</th>\n",
              "    </tr>\n",
              "  </thead>\n",
              "  <tbody>\n",
              "    <tr>\n",
              "      <th>142186</th>\n",
              "      <td>joy</td>\n",
              "      <td>specifically choreographed to be appreciated b...</td>\n",
              "      <td>universal joy</td>\n",
              "    </tr>\n",
              "    <tr>\n",
              "      <th>148668</th>\n",
              "      <td>joy</td>\n",
              "      <td>[PHOTO] It's [PERSON] 's first birthday. Break...</td>\n",
              "      <td>universal joy</td>\n",
              "    </tr>\n",
              "    <tr>\n",
              "      <th>8839</th>\n",
              "      <td>anger</td>\n",
              "      <td>i have looked around for examples of other peo...</td>\n",
              "      <td>carer</td>\n",
              "    </tr>\n",
              "    <tr>\n",
              "      <th>57185</th>\n",
              "      <td>neutral</td>\n",
              "      <td>HASHTAG HASHTAG HASHTAG [1] Billionaires rushe...</td>\n",
              "      <td>emoevent</td>\n",
              "    </tr>\n",
              "    <tr>\n",
              "      <th>40787</th>\n",
              "      <td>anger</td>\n",
              "      <td>i had a feeling you would be really bitchy and...</td>\n",
              "      <td>carer</td>\n",
              "    </tr>\n",
              "    <tr>\n",
              "      <th>...</th>\n",
              "      <td>...</td>\n",
              "      <td>...</td>\n",
              "      <td>...</td>\n",
              "    </tr>\n",
              "    <tr>\n",
              "      <th>119879</th>\n",
              "      <td>sadness</td>\n",
              "      <td>[PERSON] ... always remember your early karaok...</td>\n",
              "      <td>universal joy</td>\n",
              "    </tr>\n",
              "    <tr>\n",
              "      <th>103694</th>\n",
              "      <td>anger</td>\n",
              "      <td>Pompeo: Iran is responsible for today’s tanker...</td>\n",
              "      <td>gne</td>\n",
              "    </tr>\n",
              "    <tr>\n",
              "      <th>131932</th>\n",
              "      <td>sadness</td>\n",
              "      <td>.......No one should have to go through someth...</td>\n",
              "      <td>universal joy</td>\n",
              "    </tr>\n",
              "    <tr>\n",
              "      <th>146867</th>\n",
              "      <td>sadness</td>\n",
              "      <td>[PHOTO] hack for war commander 0FRINDS guys en...</td>\n",
              "      <td>universal joy</td>\n",
              "    </tr>\n",
              "    <tr>\n",
              "      <th>121958</th>\n",
              "      <td>joy</td>\n",
              "      <td>people I know. Thank You [PERSON] and TACA!!!</td>\n",
              "      <td>universal joy</td>\n",
              "    </tr>\n",
              "  </tbody>\n",
              "</table>\n",
              "<p>180615 rows × 3 columns</p>\n",
              "</div>\n",
              "    <div class=\"colab-df-buttons\">\n",
              "\n",
              "  <div class=\"colab-df-container\">\n",
              "    <button class=\"colab-df-convert\" onclick=\"convertToInteractive('df-7a1faf5d-d9c8-4028-b4a9-706f50d8b7cd')\"\n",
              "            title=\"Convert this dataframe to an interactive table.\"\n",
              "            style=\"display:none;\">\n",
              "\n",
              "  <svg xmlns=\"http://www.w3.org/2000/svg\" height=\"24px\" viewBox=\"0 -960 960 960\">\n",
              "    <path d=\"M120-120v-720h720v720H120Zm60-500h600v-160H180v160Zm220 220h160v-160H400v160Zm0 220h160v-160H400v160ZM180-400h160v-160H180v160Zm440 0h160v-160H620v160ZM180-180h160v-160H180v160Zm440 0h160v-160H620v160Z\"/>\n",
              "  </svg>\n",
              "    </button>\n",
              "\n",
              "  <style>\n",
              "    .colab-df-container {\n",
              "      display:flex;\n",
              "      gap: 12px;\n",
              "    }\n",
              "\n",
              "    .colab-df-convert {\n",
              "      background-color: #E8F0FE;\n",
              "      border: none;\n",
              "      border-radius: 50%;\n",
              "      cursor: pointer;\n",
              "      display: none;\n",
              "      fill: #1967D2;\n",
              "      height: 32px;\n",
              "      padding: 0 0 0 0;\n",
              "      width: 32px;\n",
              "    }\n",
              "\n",
              "    .colab-df-convert:hover {\n",
              "      background-color: #E2EBFA;\n",
              "      box-shadow: 0px 1px 2px rgba(60, 64, 67, 0.3), 0px 1px 3px 1px rgba(60, 64, 67, 0.15);\n",
              "      fill: #174EA6;\n",
              "    }\n",
              "\n",
              "    .colab-df-buttons div {\n",
              "      margin-bottom: 4px;\n",
              "    }\n",
              "\n",
              "    [theme=dark] .colab-df-convert {\n",
              "      background-color: #3B4455;\n",
              "      fill: #D2E3FC;\n",
              "    }\n",
              "\n",
              "    [theme=dark] .colab-df-convert:hover {\n",
              "      background-color: #434B5C;\n",
              "      box-shadow: 0px 1px 3px 1px rgba(0, 0, 0, 0.15);\n",
              "      filter: drop-shadow(0px 1px 2px rgba(0, 0, 0, 0.3));\n",
              "      fill: #FFFFFF;\n",
              "    }\n",
              "  </style>\n",
              "\n",
              "    <script>\n",
              "      const buttonEl =\n",
              "        document.querySelector('#df-7a1faf5d-d9c8-4028-b4a9-706f50d8b7cd button.colab-df-convert');\n",
              "      buttonEl.style.display =\n",
              "        google.colab.kernel.accessAllowed ? 'block' : 'none';\n",
              "\n",
              "      async function convertToInteractive(key) {\n",
              "        const element = document.querySelector('#df-7a1faf5d-d9c8-4028-b4a9-706f50d8b7cd');\n",
              "        const dataTable =\n",
              "          await google.colab.kernel.invokeFunction('convertToInteractive',\n",
              "                                                    [key], {});\n",
              "        if (!dataTable) return;\n",
              "\n",
              "        const docLinkHtml = 'Like what you see? Visit the ' +\n",
              "          '<a target=\"_blank\" href=https://colab.research.google.com/notebooks/data_table.ipynb>data table notebook</a>'\n",
              "          + ' to learn more about interactive tables.';\n",
              "        element.innerHTML = '';\n",
              "        dataTable['output_type'] = 'display_data';\n",
              "        await google.colab.output.renderOutput(dataTable, element);\n",
              "        const docLink = document.createElement('div');\n",
              "        docLink.innerHTML = docLinkHtml;\n",
              "        element.appendChild(docLink);\n",
              "      }\n",
              "    </script>\n",
              "  </div>\n",
              "\n",
              "\n",
              "<div id=\"df-2ffa603b-f6b8-4727-875d-25b790e44ede\">\n",
              "  <button class=\"colab-df-quickchart\" onclick=\"quickchart('df-2ffa603b-f6b8-4727-875d-25b790e44ede')\"\n",
              "            title=\"Suggest charts\"\n",
              "            style=\"display:none;\">\n",
              "\n",
              "<svg xmlns=\"http://www.w3.org/2000/svg\" height=\"24px\"viewBox=\"0 0 24 24\"\n",
              "     width=\"24px\">\n",
              "    <g>\n",
              "        <path d=\"M19 3H5c-1.1 0-2 .9-2 2v14c0 1.1.9 2 2 2h14c1.1 0 2-.9 2-2V5c0-1.1-.9-2-2-2zM9 17H7v-7h2v7zm4 0h-2V7h2v10zm4 0h-2v-4h2v4z\"/>\n",
              "    </g>\n",
              "</svg>\n",
              "  </button>\n",
              "\n",
              "<style>\n",
              "  .colab-df-quickchart {\n",
              "      --bg-color: #E8F0FE;\n",
              "      --fill-color: #1967D2;\n",
              "      --hover-bg-color: #E2EBFA;\n",
              "      --hover-fill-color: #174EA6;\n",
              "      --disabled-fill-color: #AAA;\n",
              "      --disabled-bg-color: #DDD;\n",
              "  }\n",
              "\n",
              "  [theme=dark] .colab-df-quickchart {\n",
              "      --bg-color: #3B4455;\n",
              "      --fill-color: #D2E3FC;\n",
              "      --hover-bg-color: #434B5C;\n",
              "      --hover-fill-color: #FFFFFF;\n",
              "      --disabled-bg-color: #3B4455;\n",
              "      --disabled-fill-color: #666;\n",
              "  }\n",
              "\n",
              "  .colab-df-quickchart {\n",
              "    background-color: var(--bg-color);\n",
              "    border: none;\n",
              "    border-radius: 50%;\n",
              "    cursor: pointer;\n",
              "    display: none;\n",
              "    fill: var(--fill-color);\n",
              "    height: 32px;\n",
              "    padding: 0;\n",
              "    width: 32px;\n",
              "  }\n",
              "\n",
              "  .colab-df-quickchart:hover {\n",
              "    background-color: var(--hover-bg-color);\n",
              "    box-shadow: 0 1px 2px rgba(60, 64, 67, 0.3), 0 1px 3px 1px rgba(60, 64, 67, 0.15);\n",
              "    fill: var(--button-hover-fill-color);\n",
              "  }\n",
              "\n",
              "  .colab-df-quickchart-complete:disabled,\n",
              "  .colab-df-quickchart-complete:disabled:hover {\n",
              "    background-color: var(--disabled-bg-color);\n",
              "    fill: var(--disabled-fill-color);\n",
              "    box-shadow: none;\n",
              "  }\n",
              "\n",
              "  .colab-df-spinner {\n",
              "    border: 2px solid var(--fill-color);\n",
              "    border-color: transparent;\n",
              "    border-bottom-color: var(--fill-color);\n",
              "    animation:\n",
              "      spin 1s steps(1) infinite;\n",
              "  }\n",
              "\n",
              "  @keyframes spin {\n",
              "    0% {\n",
              "      border-color: transparent;\n",
              "      border-bottom-color: var(--fill-color);\n",
              "      border-left-color: var(--fill-color);\n",
              "    }\n",
              "    20% {\n",
              "      border-color: transparent;\n",
              "      border-left-color: var(--fill-color);\n",
              "      border-top-color: var(--fill-color);\n",
              "    }\n",
              "    30% {\n",
              "      border-color: transparent;\n",
              "      border-left-color: var(--fill-color);\n",
              "      border-top-color: var(--fill-color);\n",
              "      border-right-color: var(--fill-color);\n",
              "    }\n",
              "    40% {\n",
              "      border-color: transparent;\n",
              "      border-right-color: var(--fill-color);\n",
              "      border-top-color: var(--fill-color);\n",
              "    }\n",
              "    60% {\n",
              "      border-color: transparent;\n",
              "      border-right-color: var(--fill-color);\n",
              "    }\n",
              "    80% {\n",
              "      border-color: transparent;\n",
              "      border-right-color: var(--fill-color);\n",
              "      border-bottom-color: var(--fill-color);\n",
              "    }\n",
              "    90% {\n",
              "      border-color: transparent;\n",
              "      border-bottom-color: var(--fill-color);\n",
              "    }\n",
              "  }\n",
              "</style>\n",
              "\n",
              "  <script>\n",
              "    async function quickchart(key) {\n",
              "      const quickchartButtonEl =\n",
              "        document.querySelector('#' + key + ' button');\n",
              "      quickchartButtonEl.disabled = true;  // To prevent multiple clicks.\n",
              "      quickchartButtonEl.classList.add('colab-df-spinner');\n",
              "      try {\n",
              "        const charts = await google.colab.kernel.invokeFunction(\n",
              "            'suggestCharts', [key], {});\n",
              "      } catch (error) {\n",
              "        console.error('Error during call to suggestCharts:', error);\n",
              "      }\n",
              "      quickchartButtonEl.classList.remove('colab-df-spinner');\n",
              "      quickchartButtonEl.classList.add('colab-df-quickchart-complete');\n",
              "    }\n",
              "    (() => {\n",
              "      let quickchartButtonEl =\n",
              "        document.querySelector('#df-2ffa603b-f6b8-4727-875d-25b790e44ede button');\n",
              "      quickchartButtonEl.style.display =\n",
              "        google.colab.kernel.accessAllowed ? 'block' : 'none';\n",
              "    })();\n",
              "  </script>\n",
              "</div>\n",
              "\n",
              "  <div id=\"id_743afdd8-6134-434f-a5de-04d306043277\">\n",
              "    <style>\n",
              "      .colab-df-generate {\n",
              "        background-color: #E8F0FE;\n",
              "        border: none;\n",
              "        border-radius: 50%;\n",
              "        cursor: pointer;\n",
              "        display: none;\n",
              "        fill: #1967D2;\n",
              "        height: 32px;\n",
              "        padding: 0 0 0 0;\n",
              "        width: 32px;\n",
              "      }\n",
              "\n",
              "      .colab-df-generate:hover {\n",
              "        background-color: #E2EBFA;\n",
              "        box-shadow: 0px 1px 2px rgba(60, 64, 67, 0.3), 0px 1px 3px 1px rgba(60, 64, 67, 0.15);\n",
              "        fill: #174EA6;\n",
              "      }\n",
              "\n",
              "      [theme=dark] .colab-df-generate {\n",
              "        background-color: #3B4455;\n",
              "        fill: #D2E3FC;\n",
              "      }\n",
              "\n",
              "      [theme=dark] .colab-df-generate:hover {\n",
              "        background-color: #434B5C;\n",
              "        box-shadow: 0px 1px 3px 1px rgba(0, 0, 0, 0.15);\n",
              "        filter: drop-shadow(0px 1px 2px rgba(0, 0, 0, 0.3));\n",
              "        fill: #FFFFFF;\n",
              "      }\n",
              "    </style>\n",
              "    <button class=\"colab-df-generate\" onclick=\"generateWithVariable('master_train')\"\n",
              "            title=\"Generate code using this dataframe.\"\n",
              "            style=\"display:none;\">\n",
              "\n",
              "  <svg xmlns=\"http://www.w3.org/2000/svg\" height=\"24px\"viewBox=\"0 0 24 24\"\n",
              "       width=\"24px\">\n",
              "    <path d=\"M7,19H8.4L18.45,9,17,7.55,7,17.6ZM5,21V16.75L18.45,3.32a2,2,0,0,1,2.83,0l1.4,1.43a1.91,1.91,0,0,1,.58,1.4,1.91,1.91,0,0,1-.58,1.4L9.25,21ZM18.45,9,17,7.55Zm-12,3A5.31,5.31,0,0,0,4.9,8.1,5.31,5.31,0,0,0,1,6.5,5.31,5.31,0,0,0,4.9,4.9,5.31,5.31,0,0,0,6.5,1,5.31,5.31,0,0,0,8.1,4.9,5.31,5.31,0,0,0,12,6.5,5.46,5.46,0,0,0,6.5,12Z\"/>\n",
              "  </svg>\n",
              "    </button>\n",
              "    <script>\n",
              "      (() => {\n",
              "      const buttonEl =\n",
              "        document.querySelector('#id_743afdd8-6134-434f-a5de-04d306043277 button.colab-df-generate');\n",
              "      buttonEl.style.display =\n",
              "        google.colab.kernel.accessAllowed ? 'block' : 'none';\n",
              "\n",
              "      buttonEl.onclick = () => {\n",
              "        google.colab.notebook.generateWithVariable('master_train');\n",
              "      }\n",
              "      })();\n",
              "    </script>\n",
              "  </div>\n",
              "\n",
              "    </div>\n",
              "  </div>\n"
            ],
            "application/vnd.google.colaboratory.intrinsic+json": {
              "type": "dataframe",
              "variable_name": "master_train"
            }
          },
          "metadata": {}
        }
      ]
    },
    {
      "cell_type": "code",
      "source": [
        "print(master_train.shape)\n",
        "print(master_train['labels'].value_counts())"
      ],
      "metadata": {
        "colab": {
          "base_uri": "https://localhost:8080/"
        },
        "id": "cj8ioKGdFS_s",
        "outputId": "fd094878-daaa-49f4-e7a2-332fe78922d8"
      },
      "execution_count": null,
      "outputs": [
        {
          "output_type": "stream",
          "name": "stdout",
          "text": [
            "(180615, 3)\n",
            "labels\n",
            "joy             61938\n",
            "sadness         29316\n",
            "anticipation    28114\n",
            "anger           19501\n",
            "neutral         15549\n",
            "fear            10154\n",
            "surprise         7423\n",
            "love             6775\n",
            "disgust          1746\n",
            "trust              99\n",
            "Name: count, dtype: int64\n"
          ]
        }
      ]
    },
    {
      "cell_type": "markdown",
      "metadata": {
        "id": "Jpoo8qShyTaW"
      },
      "source": [
        "# Classification"
      ]
    },
    {
      "cell_type": "markdown",
      "source": [
        "## Build Model"
      ],
      "metadata": {
        "id": "BtgE4wWPXB7w"
      }
    },
    {
      "cell_type": "code",
      "source": [
        "master_train_model = build_model(master_train)"
      ],
      "metadata": {
        "id": "pY0246TfXEMY"
      },
      "execution_count": null,
      "outputs": []
    },
    {
      "cell_type": "markdown",
      "source": [
        "##Test Model"
      ],
      "metadata": {
        "id": "KLkygCuLXQuv"
      }
    },
    {
      "cell_type": "markdown",
      "metadata": {
        "id": "RuIXp6QiGBAL"
      },
      "source": [
        "### CARER\n",
        "\n"
      ]
    },
    {
      "cell_type": "code",
      "execution_count": null,
      "metadata": {
        "id": "SSuyqEpMGBAM",
        "colab": {
          "base_uri": "https://localhost:8080/",
          "height": 773,
          "referenced_widgets": [
            "b8944a71f7db43ca8c0a47a2233e9992",
            "676ff5b537af48988d1d3e9ed7c32aeb",
            "14a86b486cba402b93dde056b28ddba2",
            "7ceb503d204946b6894fbcf7a073c0c1",
            "8a1ec81f81ee46f1a780995c5a5840eb",
            "7c7fcd175be44ec2b3176e6e712fc39b",
            "09b0ff21e71b4f3c8394d2c4cfa3d857",
            "fdab7bbbf4844d9791ca0259d43ef854",
            "f401fe751d63494aa251783710b56bdd",
            "9888568d51f045919f0f352e863af9cf",
            "183833ced47d44d7a7b3661db125ff5a",
            "8579ab37906f48d684b5532187e1f7c3",
            "1317b30e646249b6a421e4ea1177d967",
            "5890542a79a24135be44ca74fecd8073",
            "5d07d7e7e680484383b59dd882d87089",
            "334f428fb53a4f7aa82f0483bd149c66",
            "3919cd8cd75b4ad792a4ee55c6417eab",
            "5d82fb49e114442f9a06f85b0916d1f9",
            "5bad6ce56f924e4b8732d878c35ea8cb",
            "61bef33ee9354d2fa2c5790359d598c9",
            "a28cba2cffef48d1ad617061b06a03cc",
            "0258d9da5aed4efa822c4e67778c1de9"
          ]
        },
        "outputId": "f4543ba1-80d7-48ad-a7d8-a85eafa3f331"
      },
      "outputs": [
        {
          "output_type": "display_data",
          "data": {
            "text/plain": [
              "  0%|          | 0/25 [00:00<?, ?it/s]"
            ],
            "application/vnd.jupyter.widget-view+json": {
              "version_major": 2,
              "version_minor": 0,
              "model_id": "b8944a71f7db43ca8c0a47a2233e9992"
            }
          },
          "metadata": {}
        },
        {
          "output_type": "display_data",
          "data": {
            "text/plain": [
              "  0%|          | 0/126 [00:00<?, ?it/s]"
            ],
            "application/vnd.jupyter.widget-view+json": {
              "version_major": 2,
              "version_minor": 0,
              "model_id": "8579ab37906f48d684b5532187e1f7c3"
            }
          },
          "metadata": {}
        },
        {
          "output_type": "display_data",
          "data": {
            "text/plain": [
              "array([[1594,    2,   72,    8,    1,    2,   41,    0],\n",
              "       [   0,    0,    0,    0,    0,    0,    0,    0],\n",
              "       [  11,    0, 1282,    8,    1,    0,   46,   83],\n",
              "       [   1,    1,    6, 3925,  260,    0,   10,   29],\n",
              "       [   0,    0,    1,   61,  972,    0,    3,    0],\n",
              "       [   0,    0,    0,    0,    0,    0,    0,    0],\n",
              "       [  60,    0,   45,    8,    3,    0, 3519,    1],\n",
              "       [   1,    0,   42,    3,    0,    0,    5,  398]])"
            ]
          },
          "metadata": {}
        },
        {
          "output_type": "stream",
          "name": "stdout",
          "text": [
            "              precision    recall  f1-score   support\n",
            "\n",
            "       anger       0.96      0.93      0.94      1720\n",
            "anticipation       0.00      0.00      0.00         0\n",
            "     disgust       0.00      0.00      0.00         0\n",
            "        fear       0.89      0.90      0.89      1431\n",
            "         joy       0.98      0.93      0.95      4232\n",
            "        love       0.79      0.94      0.85      1037\n",
            "     neutral       0.00      0.00      0.00         0\n",
            "     sadness       0.97      0.97      0.97      3636\n",
            "    surprise       0.78      0.89      0.83       449\n",
            "       trust       0.00      0.00      0.00         0\n",
            "\n",
            "   micro avg       0.93      0.93      0.93     12505\n",
            "   macro avg       0.54      0.55      0.54     12505\n",
            "weighted avg       0.94      0.93      0.94     12505\n",
            "\n"
          ]
        },
        {
          "output_type": "stream",
          "name": "stderr",
          "text": [
            "/usr/local/lib/python3.10/dist-packages/sklearn/metrics/_classification.py:1344: UndefinedMetricWarning: Precision and F-score are ill-defined and being set to 0.0 in labels with no predicted samples. Use `zero_division` parameter to control this behavior.\n",
            "  _warn_prf(average, modifier, msg_start, len(result))\n",
            "/usr/local/lib/python3.10/dist-packages/sklearn/metrics/_classification.py:1344: UndefinedMetricWarning: Recall and F-score are ill-defined and being set to 0.0 in labels with no true samples. Use `zero_division` parameter to control this behavior.\n",
            "  _warn_prf(average, modifier, msg_start, len(result))\n",
            "/usr/local/lib/python3.10/dist-packages/sklearn/metrics/_classification.py:1344: UndefinedMetricWarning: Precision and F-score are ill-defined and being set to 0.0 in labels with no predicted samples. Use `zero_division` parameter to control this behavior.\n",
            "  _warn_prf(average, modifier, msg_start, len(result))\n",
            "/usr/local/lib/python3.10/dist-packages/sklearn/metrics/_classification.py:1344: UndefinedMetricWarning: Recall and F-score are ill-defined and being set to 0.0 in labels with no true samples. Use `zero_division` parameter to control this behavior.\n",
            "  _warn_prf(average, modifier, msg_start, len(result))\n",
            "/usr/local/lib/python3.10/dist-packages/sklearn/metrics/_classification.py:1344: UndefinedMetricWarning: Precision and F-score are ill-defined and being set to 0.0 in labels with no predicted samples. Use `zero_division` parameter to control this behavior.\n",
            "  _warn_prf(average, modifier, msg_start, len(result))\n",
            "/usr/local/lib/python3.10/dist-packages/sklearn/metrics/_classification.py:1344: UndefinedMetricWarning: Recall and F-score are ill-defined and being set to 0.0 in labels with no true samples. Use `zero_division` parameter to control this behavior.\n",
            "  _warn_prf(average, modifier, msg_start, len(result))\n"
          ]
        }
      ],
      "source": [
        "# run the classifier\n",
        "predictions = predict_labels(master_train_model, carer_tst)"
      ]
    },
    {
      "cell_type": "markdown",
      "metadata": {
        "id": "c4E_b47XePRs"
      },
      "source": [
        "### Covid Worry\n",
        "\n"
      ]
    },
    {
      "cell_type": "code",
      "execution_count": null,
      "metadata": {
        "id": "p-_6R9_VgEc-"
      },
      "outputs": [],
      "source": [
        "# run the classifier\n",
        "predictions = predict_labels(master_train_model, covid_tst)"
      ]
    },
    {
      "cell_type": "markdown",
      "metadata": {
        "id": "nlvJYU6zojlm"
      },
      "source": [
        "### Emo-Event"
      ]
    },
    {
      "cell_type": "code",
      "execution_count": null,
      "metadata": {
        "id": "HqZHqi9Eojl7"
      },
      "outputs": [],
      "source": [
        "# run the classifier\n",
        "predictions = predict_labels(master_train_model, emoev_tst)"
      ]
    },
    {
      "cell_type": "markdown",
      "metadata": {
        "id": "ECHbhtSaowv4"
      },
      "source": [
        "### enISEAR"
      ]
    },
    {
      "cell_type": "code",
      "execution_count": null,
      "metadata": {
        "id": "fNhgt4FGowv5"
      },
      "outputs": [],
      "source": [
        "# run the classifier\n",
        "predictions = predict_labels(master_train_model, isear_tst)"
      ]
    },
    {
      "cell_type": "markdown",
      "metadata": {
        "id": "5f_TIIg2o-oK"
      },
      "source": [
        "### Github Love"
      ]
    },
    {
      "cell_type": "code",
      "execution_count": null,
      "metadata": {
        "id": "nvDZgNsEo-oM"
      },
      "outputs": [],
      "source": [
        "# run the classifier\n",
        "predictions = predict_labels(master_train_model, git_tst)"
      ]
    },
    {
      "cell_type": "markdown",
      "metadata": {
        "id": "4BV6OhL4GHZe"
      },
      "source": [
        "### GoEmotions"
      ]
    },
    {
      "cell_type": "code",
      "execution_count": null,
      "metadata": {
        "id": "IbSB0uoHGHZw"
      },
      "outputs": [],
      "source": [
        "# run the classifier\n",
        "predictions = predict_labels(master_train_model, go_emo_tst)"
      ]
    },
    {
      "cell_type": "markdown",
      "source": [
        "###GoodNewsEveryone"
      ],
      "metadata": {
        "id": "ZBOnGE7IOuCG"
      }
    },
    {
      "cell_type": "code",
      "source": [
        "# run the classifier\n",
        "predictions = predict_labels(master_train_model, gne_tst)"
      ],
      "metadata": {
        "id": "DjXuNP2T3ZSE"
      },
      "execution_count": null,
      "outputs": []
    },
    {
      "cell_type": "markdown",
      "source": [
        "### Stack-OV"
      ],
      "metadata": {
        "id": "Cq3cqOJ_I0Ek"
      }
    },
    {
      "cell_type": "code",
      "source": [
        "# run the classifier\n",
        "predictions = predict_labels(master_train_model, stackOV_tst)"
      ],
      "metadata": {
        "id": "gvIW1Mdz3V-u"
      },
      "execution_count": null,
      "outputs": []
    },
    {
      "cell_type": "markdown",
      "metadata": {
        "id": "-d7Lk3mppOJH"
      },
      "source": [
        "### Tweeteval"
      ]
    },
    {
      "cell_type": "code",
      "source": [
        "# run the classifier\n",
        "predictions = predict_labels(master_train_model, tweeteval_tst)"
      ],
      "metadata": {
        "id": "f5NPsaOu3VF8"
      },
      "execution_count": null,
      "outputs": []
    },
    {
      "cell_type": "markdown",
      "metadata": {
        "id": "076Rj5PYGQo_"
      },
      "source": [
        "### Universal Joy"
      ]
    },
    {
      "cell_type": "code",
      "source": [
        "# run the classifier\n",
        "predictions = predict_labels(master_train_model, uni_tst)"
      ],
      "metadata": {
        "id": "l0Xgt1N73T9E"
      },
      "execution_count": null,
      "outputs": []
    },
    {
      "cell_type": "markdown",
      "metadata": {
        "id": "9jy7_Qx1pgIj"
      },
      "source": [
        "### WASSA-21"
      ]
    },
    {
      "cell_type": "code",
      "execution_count": null,
      "metadata": {
        "id": "yRkjF28GpgIk"
      },
      "outputs": [],
      "source": [
        "# run the classifier\n",
        "predictions = predict_labels(master_train_model, wassa_tst)"
      ]
    }
  ],
  "metadata": {
    "colab": {
      "provenance": [],
      "collapsed_sections": [
        "nIoTP9mUeXry",
        "vmgEELfph3mK",
        "5-Bq5zWDeb2E",
        "2rs33XXplAuu",
        "BQn0Uq2UCTSx",
        "BtgE4wWPXB7w"
      ],
      "gpuType": "T4"
    },
    "kernelspec": {
      "display_name": "Python 3",
      "name": "python3"
    },
    "language_info": {
      "name": "python"
    },
    "widgets": {
      "application/vnd.jupyter.widget-state+json": {
        "b8944a71f7db43ca8c0a47a2233e9992": {
          "model_module": "@jupyter-widgets/controls",
          "model_name": "HBoxModel",
          "model_module_version": "1.5.0",
          "state": {
            "_dom_classes": [],
            "_model_module": "@jupyter-widgets/controls",
            "_model_module_version": "1.5.0",
            "_model_name": "HBoxModel",
            "_view_count": null,
            "_view_module": "@jupyter-widgets/controls",
            "_view_module_version": "1.5.0",
            "_view_name": "HBoxView",
            "box_style": "",
            "children": [
              "IPY_MODEL_676ff5b537af48988d1d3e9ed7c32aeb",
              "IPY_MODEL_14a86b486cba402b93dde056b28ddba2",
              "IPY_MODEL_7ceb503d204946b6894fbcf7a073c0c1"
            ],
            "layout": "IPY_MODEL_8a1ec81f81ee46f1a780995c5a5840eb"
          }
        },
        "676ff5b537af48988d1d3e9ed7c32aeb": {
          "model_module": "@jupyter-widgets/controls",
          "model_name": "HTMLModel",
          "model_module_version": "1.5.0",
          "state": {
            "_dom_classes": [],
            "_model_module": "@jupyter-widgets/controls",
            "_model_module_version": "1.5.0",
            "_model_name": "HTMLModel",
            "_view_count": null,
            "_view_module": "@jupyter-widgets/controls",
            "_view_module_version": "1.5.0",
            "_view_name": "HTMLView",
            "description": "",
            "description_tooltip": null,
            "layout": "IPY_MODEL_7c7fcd175be44ec2b3176e6e712fc39b",
            "placeholder": "​",
            "style": "IPY_MODEL_09b0ff21e71b4f3c8394d2c4cfa3d857",
            "value": ""
          }
        },
        "14a86b486cba402b93dde056b28ddba2": {
          "model_module": "@jupyter-widgets/controls",
          "model_name": "FloatProgressModel",
          "model_module_version": "1.5.0",
          "state": {
            "_dom_classes": [],
            "_model_module": "@jupyter-widgets/controls",
            "_model_module_version": "1.5.0",
            "_model_name": "FloatProgressModel",
            "_view_count": null,
            "_view_module": "@jupyter-widgets/controls",
            "_view_module_version": "1.5.0",
            "_view_name": "ProgressView",
            "bar_style": "success",
            "description": "",
            "description_tooltip": null,
            "layout": "IPY_MODEL_fdab7bbbf4844d9791ca0259d43ef854",
            "max": 25,
            "min": 0,
            "orientation": "horizontal",
            "style": "IPY_MODEL_f401fe751d63494aa251783710b56bdd",
            "value": 25
          }
        },
        "7ceb503d204946b6894fbcf7a073c0c1": {
          "model_module": "@jupyter-widgets/controls",
          "model_name": "HTMLModel",
          "model_module_version": "1.5.0",
          "state": {
            "_dom_classes": [],
            "_model_module": "@jupyter-widgets/controls",
            "_model_module_version": "1.5.0",
            "_model_name": "HTMLModel",
            "_view_count": null,
            "_view_module": "@jupyter-widgets/controls",
            "_view_module_version": "1.5.0",
            "_view_name": "HTMLView",
            "description": "",
            "description_tooltip": null,
            "layout": "IPY_MODEL_9888568d51f045919f0f352e863af9cf",
            "placeholder": "​",
            "style": "IPY_MODEL_183833ced47d44d7a7b3661db125ff5a",
            "value": " 26/? [00:09&lt;00:00,  2.72it/s]"
          }
        },
        "8a1ec81f81ee46f1a780995c5a5840eb": {
          "model_module": "@jupyter-widgets/base",
          "model_name": "LayoutModel",
          "model_module_version": "1.2.0",
          "state": {
            "_model_module": "@jupyter-widgets/base",
            "_model_module_version": "1.2.0",
            "_model_name": "LayoutModel",
            "_view_count": null,
            "_view_module": "@jupyter-widgets/base",
            "_view_module_version": "1.2.0",
            "_view_name": "LayoutView",
            "align_content": null,
            "align_items": null,
            "align_self": null,
            "border": null,
            "bottom": null,
            "display": null,
            "flex": null,
            "flex_flow": null,
            "grid_area": null,
            "grid_auto_columns": null,
            "grid_auto_flow": null,
            "grid_auto_rows": null,
            "grid_column": null,
            "grid_gap": null,
            "grid_row": null,
            "grid_template_areas": null,
            "grid_template_columns": null,
            "grid_template_rows": null,
            "height": null,
            "justify_content": null,
            "justify_items": null,
            "left": null,
            "margin": null,
            "max_height": null,
            "max_width": null,
            "min_height": null,
            "min_width": null,
            "object_fit": null,
            "object_position": null,
            "order": null,
            "overflow": null,
            "overflow_x": null,
            "overflow_y": null,
            "padding": null,
            "right": null,
            "top": null,
            "visibility": null,
            "width": null
          }
        },
        "7c7fcd175be44ec2b3176e6e712fc39b": {
          "model_module": "@jupyter-widgets/base",
          "model_name": "LayoutModel",
          "model_module_version": "1.2.0",
          "state": {
            "_model_module": "@jupyter-widgets/base",
            "_model_module_version": "1.2.0",
            "_model_name": "LayoutModel",
            "_view_count": null,
            "_view_module": "@jupyter-widgets/base",
            "_view_module_version": "1.2.0",
            "_view_name": "LayoutView",
            "align_content": null,
            "align_items": null,
            "align_self": null,
            "border": null,
            "bottom": null,
            "display": null,
            "flex": null,
            "flex_flow": null,
            "grid_area": null,
            "grid_auto_columns": null,
            "grid_auto_flow": null,
            "grid_auto_rows": null,
            "grid_column": null,
            "grid_gap": null,
            "grid_row": null,
            "grid_template_areas": null,
            "grid_template_columns": null,
            "grid_template_rows": null,
            "height": null,
            "justify_content": null,
            "justify_items": null,
            "left": null,
            "margin": null,
            "max_height": null,
            "max_width": null,
            "min_height": null,
            "min_width": null,
            "object_fit": null,
            "object_position": null,
            "order": null,
            "overflow": null,
            "overflow_x": null,
            "overflow_y": null,
            "padding": null,
            "right": null,
            "top": null,
            "visibility": null,
            "width": null
          }
        },
        "09b0ff21e71b4f3c8394d2c4cfa3d857": {
          "model_module": "@jupyter-widgets/controls",
          "model_name": "DescriptionStyleModel",
          "model_module_version": "1.5.0",
          "state": {
            "_model_module": "@jupyter-widgets/controls",
            "_model_module_version": "1.5.0",
            "_model_name": "DescriptionStyleModel",
            "_view_count": null,
            "_view_module": "@jupyter-widgets/base",
            "_view_module_version": "1.2.0",
            "_view_name": "StyleView",
            "description_width": ""
          }
        },
        "fdab7bbbf4844d9791ca0259d43ef854": {
          "model_module": "@jupyter-widgets/base",
          "model_name": "LayoutModel",
          "model_module_version": "1.2.0",
          "state": {
            "_model_module": "@jupyter-widgets/base",
            "_model_module_version": "1.2.0",
            "_model_name": "LayoutModel",
            "_view_count": null,
            "_view_module": "@jupyter-widgets/base",
            "_view_module_version": "1.2.0",
            "_view_name": "LayoutView",
            "align_content": null,
            "align_items": null,
            "align_self": null,
            "border": null,
            "bottom": null,
            "display": null,
            "flex": null,
            "flex_flow": null,
            "grid_area": null,
            "grid_auto_columns": null,
            "grid_auto_flow": null,
            "grid_auto_rows": null,
            "grid_column": null,
            "grid_gap": null,
            "grid_row": null,
            "grid_template_areas": null,
            "grid_template_columns": null,
            "grid_template_rows": null,
            "height": null,
            "justify_content": null,
            "justify_items": null,
            "left": null,
            "margin": null,
            "max_height": null,
            "max_width": null,
            "min_height": null,
            "min_width": null,
            "object_fit": null,
            "object_position": null,
            "order": null,
            "overflow": null,
            "overflow_x": null,
            "overflow_y": null,
            "padding": null,
            "right": null,
            "top": null,
            "visibility": null,
            "width": null
          }
        },
        "f401fe751d63494aa251783710b56bdd": {
          "model_module": "@jupyter-widgets/controls",
          "model_name": "ProgressStyleModel",
          "model_module_version": "1.5.0",
          "state": {
            "_model_module": "@jupyter-widgets/controls",
            "_model_module_version": "1.5.0",
            "_model_name": "ProgressStyleModel",
            "_view_count": null,
            "_view_module": "@jupyter-widgets/base",
            "_view_module_version": "1.2.0",
            "_view_name": "StyleView",
            "bar_color": null,
            "description_width": ""
          }
        },
        "9888568d51f045919f0f352e863af9cf": {
          "model_module": "@jupyter-widgets/base",
          "model_name": "LayoutModel",
          "model_module_version": "1.2.0",
          "state": {
            "_model_module": "@jupyter-widgets/base",
            "_model_module_version": "1.2.0",
            "_model_name": "LayoutModel",
            "_view_count": null,
            "_view_module": "@jupyter-widgets/base",
            "_view_module_version": "1.2.0",
            "_view_name": "LayoutView",
            "align_content": null,
            "align_items": null,
            "align_self": null,
            "border": null,
            "bottom": null,
            "display": null,
            "flex": null,
            "flex_flow": null,
            "grid_area": null,
            "grid_auto_columns": null,
            "grid_auto_flow": null,
            "grid_auto_rows": null,
            "grid_column": null,
            "grid_gap": null,
            "grid_row": null,
            "grid_template_areas": null,
            "grid_template_columns": null,
            "grid_template_rows": null,
            "height": null,
            "justify_content": null,
            "justify_items": null,
            "left": null,
            "margin": null,
            "max_height": null,
            "max_width": null,
            "min_height": null,
            "min_width": null,
            "object_fit": null,
            "object_position": null,
            "order": null,
            "overflow": null,
            "overflow_x": null,
            "overflow_y": null,
            "padding": null,
            "right": null,
            "top": null,
            "visibility": null,
            "width": null
          }
        },
        "183833ced47d44d7a7b3661db125ff5a": {
          "model_module": "@jupyter-widgets/controls",
          "model_name": "DescriptionStyleModel",
          "model_module_version": "1.5.0",
          "state": {
            "_model_module": "@jupyter-widgets/controls",
            "_model_module_version": "1.5.0",
            "_model_name": "DescriptionStyleModel",
            "_view_count": null,
            "_view_module": "@jupyter-widgets/base",
            "_view_module_version": "1.2.0",
            "_view_name": "StyleView",
            "description_width": ""
          }
        },
        "8579ab37906f48d684b5532187e1f7c3": {
          "model_module": "@jupyter-widgets/controls",
          "model_name": "HBoxModel",
          "model_module_version": "1.5.0",
          "state": {
            "_dom_classes": [],
            "_model_module": "@jupyter-widgets/controls",
            "_model_module_version": "1.5.0",
            "_model_name": "HBoxModel",
            "_view_count": null,
            "_view_module": "@jupyter-widgets/controls",
            "_view_module_version": "1.5.0",
            "_view_name": "HBoxView",
            "box_style": "",
            "children": [
              "IPY_MODEL_1317b30e646249b6a421e4ea1177d967",
              "IPY_MODEL_5890542a79a24135be44ca74fecd8073",
              "IPY_MODEL_5d07d7e7e680484383b59dd882d87089"
            ],
            "layout": "IPY_MODEL_334f428fb53a4f7aa82f0483bd149c66"
          }
        },
        "1317b30e646249b6a421e4ea1177d967": {
          "model_module": "@jupyter-widgets/controls",
          "model_name": "HTMLModel",
          "model_module_version": "1.5.0",
          "state": {
            "_dom_classes": [],
            "_model_module": "@jupyter-widgets/controls",
            "_model_module_version": "1.5.0",
            "_model_name": "HTMLModel",
            "_view_count": null,
            "_view_module": "@jupyter-widgets/controls",
            "_view_module_version": "1.5.0",
            "_view_name": "HTMLView",
            "description": "",
            "description_tooltip": null,
            "layout": "IPY_MODEL_3919cd8cd75b4ad792a4ee55c6417eab",
            "placeholder": "​",
            "style": "IPY_MODEL_5d82fb49e114442f9a06f85b0916d1f9",
            "value": "100%"
          }
        },
        "5890542a79a24135be44ca74fecd8073": {
          "model_module": "@jupyter-widgets/controls",
          "model_name": "FloatProgressModel",
          "model_module_version": "1.5.0",
          "state": {
            "_dom_classes": [],
            "_model_module": "@jupyter-widgets/controls",
            "_model_module_version": "1.5.0",
            "_model_name": "FloatProgressModel",
            "_view_count": null,
            "_view_module": "@jupyter-widgets/controls",
            "_view_module_version": "1.5.0",
            "_view_name": "ProgressView",
            "bar_style": "success",
            "description": "",
            "description_tooltip": null,
            "layout": "IPY_MODEL_5bad6ce56f924e4b8732d878c35ea8cb",
            "max": 126,
            "min": 0,
            "orientation": "horizontal",
            "style": "IPY_MODEL_61bef33ee9354d2fa2c5790359d598c9",
            "value": 126
          }
        },
        "5d07d7e7e680484383b59dd882d87089": {
          "model_module": "@jupyter-widgets/controls",
          "model_name": "HTMLModel",
          "model_module_version": "1.5.0",
          "state": {
            "_dom_classes": [],
            "_model_module": "@jupyter-widgets/controls",
            "_model_module_version": "1.5.0",
            "_model_name": "HTMLModel",
            "_view_count": null,
            "_view_module": "@jupyter-widgets/controls",
            "_view_module_version": "1.5.0",
            "_view_name": "HTMLView",
            "description": "",
            "description_tooltip": null,
            "layout": "IPY_MODEL_a28cba2cffef48d1ad617061b06a03cc",
            "placeholder": "​",
            "style": "IPY_MODEL_0258d9da5aed4efa822c4e67778c1de9",
            "value": " 126/126 [00:27&lt;00:00,  4.48it/s]"
          }
        },
        "334f428fb53a4f7aa82f0483bd149c66": {
          "model_module": "@jupyter-widgets/base",
          "model_name": "LayoutModel",
          "model_module_version": "1.2.0",
          "state": {
            "_model_module": "@jupyter-widgets/base",
            "_model_module_version": "1.2.0",
            "_model_name": "LayoutModel",
            "_view_count": null,
            "_view_module": "@jupyter-widgets/base",
            "_view_module_version": "1.2.0",
            "_view_name": "LayoutView",
            "align_content": null,
            "align_items": null,
            "align_self": null,
            "border": null,
            "bottom": null,
            "display": null,
            "flex": null,
            "flex_flow": null,
            "grid_area": null,
            "grid_auto_columns": null,
            "grid_auto_flow": null,
            "grid_auto_rows": null,
            "grid_column": null,
            "grid_gap": null,
            "grid_row": null,
            "grid_template_areas": null,
            "grid_template_columns": null,
            "grid_template_rows": null,
            "height": null,
            "justify_content": null,
            "justify_items": null,
            "left": null,
            "margin": null,
            "max_height": null,
            "max_width": null,
            "min_height": null,
            "min_width": null,
            "object_fit": null,
            "object_position": null,
            "order": null,
            "overflow": null,
            "overflow_x": null,
            "overflow_y": null,
            "padding": null,
            "right": null,
            "top": null,
            "visibility": null,
            "width": null
          }
        },
        "3919cd8cd75b4ad792a4ee55c6417eab": {
          "model_module": "@jupyter-widgets/base",
          "model_name": "LayoutModel",
          "model_module_version": "1.2.0",
          "state": {
            "_model_module": "@jupyter-widgets/base",
            "_model_module_version": "1.2.0",
            "_model_name": "LayoutModel",
            "_view_count": null,
            "_view_module": "@jupyter-widgets/base",
            "_view_module_version": "1.2.0",
            "_view_name": "LayoutView",
            "align_content": null,
            "align_items": null,
            "align_self": null,
            "border": null,
            "bottom": null,
            "display": null,
            "flex": null,
            "flex_flow": null,
            "grid_area": null,
            "grid_auto_columns": null,
            "grid_auto_flow": null,
            "grid_auto_rows": null,
            "grid_column": null,
            "grid_gap": null,
            "grid_row": null,
            "grid_template_areas": null,
            "grid_template_columns": null,
            "grid_template_rows": null,
            "height": null,
            "justify_content": null,
            "justify_items": null,
            "left": null,
            "margin": null,
            "max_height": null,
            "max_width": null,
            "min_height": null,
            "min_width": null,
            "object_fit": null,
            "object_position": null,
            "order": null,
            "overflow": null,
            "overflow_x": null,
            "overflow_y": null,
            "padding": null,
            "right": null,
            "top": null,
            "visibility": null,
            "width": null
          }
        },
        "5d82fb49e114442f9a06f85b0916d1f9": {
          "model_module": "@jupyter-widgets/controls",
          "model_name": "DescriptionStyleModel",
          "model_module_version": "1.5.0",
          "state": {
            "_model_module": "@jupyter-widgets/controls",
            "_model_module_version": "1.5.0",
            "_model_name": "DescriptionStyleModel",
            "_view_count": null,
            "_view_module": "@jupyter-widgets/base",
            "_view_module_version": "1.2.0",
            "_view_name": "StyleView",
            "description_width": ""
          }
        },
        "5bad6ce56f924e4b8732d878c35ea8cb": {
          "model_module": "@jupyter-widgets/base",
          "model_name": "LayoutModel",
          "model_module_version": "1.2.0",
          "state": {
            "_model_module": "@jupyter-widgets/base",
            "_model_module_version": "1.2.0",
            "_model_name": "LayoutModel",
            "_view_count": null,
            "_view_module": "@jupyter-widgets/base",
            "_view_module_version": "1.2.0",
            "_view_name": "LayoutView",
            "align_content": null,
            "align_items": null,
            "align_self": null,
            "border": null,
            "bottom": null,
            "display": null,
            "flex": null,
            "flex_flow": null,
            "grid_area": null,
            "grid_auto_columns": null,
            "grid_auto_flow": null,
            "grid_auto_rows": null,
            "grid_column": null,
            "grid_gap": null,
            "grid_row": null,
            "grid_template_areas": null,
            "grid_template_columns": null,
            "grid_template_rows": null,
            "height": null,
            "justify_content": null,
            "justify_items": null,
            "left": null,
            "margin": null,
            "max_height": null,
            "max_width": null,
            "min_height": null,
            "min_width": null,
            "object_fit": null,
            "object_position": null,
            "order": null,
            "overflow": null,
            "overflow_x": null,
            "overflow_y": null,
            "padding": null,
            "right": null,
            "top": null,
            "visibility": null,
            "width": null
          }
        },
        "61bef33ee9354d2fa2c5790359d598c9": {
          "model_module": "@jupyter-widgets/controls",
          "model_name": "ProgressStyleModel",
          "model_module_version": "1.5.0",
          "state": {
            "_model_module": "@jupyter-widgets/controls",
            "_model_module_version": "1.5.0",
            "_model_name": "ProgressStyleModel",
            "_view_count": null,
            "_view_module": "@jupyter-widgets/base",
            "_view_module_version": "1.2.0",
            "_view_name": "StyleView",
            "bar_color": null,
            "description_width": ""
          }
        },
        "a28cba2cffef48d1ad617061b06a03cc": {
          "model_module": "@jupyter-widgets/base",
          "model_name": "LayoutModel",
          "model_module_version": "1.2.0",
          "state": {
            "_model_module": "@jupyter-widgets/base",
            "_model_module_version": "1.2.0",
            "_model_name": "LayoutModel",
            "_view_count": null,
            "_view_module": "@jupyter-widgets/base",
            "_view_module_version": "1.2.0",
            "_view_name": "LayoutView",
            "align_content": null,
            "align_items": null,
            "align_self": null,
            "border": null,
            "bottom": null,
            "display": null,
            "flex": null,
            "flex_flow": null,
            "grid_area": null,
            "grid_auto_columns": null,
            "grid_auto_flow": null,
            "grid_auto_rows": null,
            "grid_column": null,
            "grid_gap": null,
            "grid_row": null,
            "grid_template_areas": null,
            "grid_template_columns": null,
            "grid_template_rows": null,
            "height": null,
            "justify_content": null,
            "justify_items": null,
            "left": null,
            "margin": null,
            "max_height": null,
            "max_width": null,
            "min_height": null,
            "min_width": null,
            "object_fit": null,
            "object_position": null,
            "order": null,
            "overflow": null,
            "overflow_x": null,
            "overflow_y": null,
            "padding": null,
            "right": null,
            "top": null,
            "visibility": null,
            "width": null
          }
        },
        "0258d9da5aed4efa822c4e67778c1de9": {
          "model_module": "@jupyter-widgets/controls",
          "model_name": "DescriptionStyleModel",
          "model_module_version": "1.5.0",
          "state": {
            "_model_module": "@jupyter-widgets/controls",
            "_model_module_version": "1.5.0",
            "_model_name": "DescriptionStyleModel",
            "_view_count": null,
            "_view_module": "@jupyter-widgets/base",
            "_view_module_version": "1.2.0",
            "_view_name": "StyleView",
            "description_width": ""
          }
        }
      }
    },
    "accelerator": "GPU"
  },
  "nbformat": 4,
  "nbformat_minor": 0
}